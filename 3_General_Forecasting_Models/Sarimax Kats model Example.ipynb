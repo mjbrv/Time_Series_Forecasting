{
 "cells": [
  {
   "cell_type": "code",
   "execution_count": 67,
   "metadata": {},
   "outputs": [],
   "source": [
    "import pandas as pd\n",
    "from typing import Generic, Optional, TypeVar\n",
    "from abc import ABC, abstractmethod\n",
    "\n",
    "class TimeSeriesModel(ABC):\n",
    "    \"\"\" DBVO time Series model\n",
    "\n",
    "    This is the parent class for all DBVO time series models\n",
    "    \n",
    "    Attributes:\n",
    "        data: pandas dataframe with two columns [\"time\", \"value\"]\n",
    "        params: model parameters\n",
    "        split_n: for train/test split purposes - specifies the number of training samples\n",
    "    \n",
    "    Returns:\n",
    "        pred_df: pandas dataframe with three columns [\"time\", \"pred\", \"pred_lower\", \"pred_upper\"]\n",
    "        \n",
    "    \n",
    "    \"\"\"\n",
    "    def __init__(self,\n",
    "                 data: Optional[pd.DataFrame],\n",
    "                 params: Optional[dict],\n",
    "                 split_n: Optional[int] = None, \n",
    "                 time_col_name:str = 'time',\n",
    "                 val_col_name:str = 'value'\n",
    "                  ):\n",
    "        self.data = data\n",
    "        self.params = params\n",
    "        self.__type__ = \"dvbo_time_series_model\"\n",
    "        self.time_col_name = time_col_name\n",
    "        self.val_col_name = val_col_name\n",
    "        \n",
    "        if data is not None:\n",
    "            self.validate_column_names()\n",
    "            \n",
    "        if split_n is not None:\n",
    "            self.split_n = split_n\n",
    "            self.train, self.test = self.split(\n",
    "                self.data_prep(data),\n",
    "                self.split_n\n",
    "            )   \n",
    "            \n",
    "        \n",
    "    def validate_column_names(self) -> None:\n",
    "        \"\"\"\n",
    "        Validates input data frame columns ['time', 'value']\n",
    "        \"\"\" \n",
    "        if self.time_col_name not in self.data.columns or self.val_col_name not in self.data.columns:\n",
    "            raise ValueError(\"columns need to be named ['time', 'value']\")\n",
    "                \n",
    "    def split(self, data, n):\n",
    "        return data[:-n], data[-n:]\n",
    "        \n",
    "    @abstractmethod\n",
    "    def fit(self, train, test=None):\n",
    "        pass\n",
    "\n",
    "    @abstractmethod\n",
    "    def predict(self, steps):\n",
    "        pass\n",
    "\n",
    "    @abstractmethod\n",
    "    def data_prep(self, data):\n",
    "        pass\n",
    "\n",
    "    @abstractmethod\n",
    "    def plot(self):\n",
    "        pass\n"
   ]
  },
  {
   "cell_type": "code",
   "execution_count": 68,
   "metadata": {},
   "outputs": [],
   "source": [
    "import pandas as pd\n",
    "import numpy as np\n",
    "import sys\n",
    "import matplotlib.pyplot as plt\n",
    "import warnings\n",
    "from kats.consts import TimeSeriesData\n",
    "from kats.models.sarima import SARIMAModel, SARIMAParams\n",
    "from kats.models.prophet import ProphetModel, ProphetParams\n",
    "from kats.models.holtwinters import HoltWintersParams, HoltWintersModel\n",
    "from kats.models.ensemble.ensemble import EnsembleParams, BaseModelParams\n",
    "from kats.models.ensemble.kats_ensemble import KatsEnsemble\n",
    "from kats.models import (\n",
    "    arima,\n",
    "    holtwinters,\n",
    "    linear_model,\n",
    "    prophet, \n",
    "    quadratic_model,\n",
    "    sarima,\n",
    "    theta,\n",
    ")\n",
    "\n",
    "warnings.simplefilter(action='ignore')\n",
    "#sys.path.append(\"../\")"
   ]
  },
  {
   "cell_type": "markdown",
   "metadata": {},
   "source": [
    "### Load data"
   ]
  },
  {
   "cell_type": "code",
   "execution_count": 69,
   "metadata": {},
   "outputs": [
    {
     "name": "stdout",
     "output_type": "stream",
     "text": [
      "renaming columns ['ds', 'y'] to ['time', 'value']\n",
      "(144, 2)\n",
      "1949-01-01\n",
      "1960-12-01\n"
     ]
    },
    {
     "data": {
      "text/html": [
       "<div>\n",
       "<style scoped>\n",
       "    .dataframe tbody tr th:only-of-type {\n",
       "        vertical-align: middle;\n",
       "    }\n",
       "\n",
       "    .dataframe tbody tr th {\n",
       "        vertical-align: top;\n",
       "    }\n",
       "\n",
       "    .dataframe thead th {\n",
       "        text-align: right;\n",
       "    }\n",
       "</style>\n",
       "<table border=\"1\" class=\"dataframe\">\n",
       "  <thead>\n",
       "    <tr style=\"text-align: right;\">\n",
       "      <th></th>\n",
       "      <th>time</th>\n",
       "      <th>value</th>\n",
       "    </tr>\n",
       "  </thead>\n",
       "  <tbody>\n",
       "    <tr>\n",
       "      <th>0</th>\n",
       "      <td>1949-01-01</td>\n",
       "      <td>112</td>\n",
       "    </tr>\n",
       "    <tr>\n",
       "      <th>1</th>\n",
       "      <td>1949-02-01</td>\n",
       "      <td>118</td>\n",
       "    </tr>\n",
       "    <tr>\n",
       "      <th>2</th>\n",
       "      <td>1949-03-01</td>\n",
       "      <td>132</td>\n",
       "    </tr>\n",
       "    <tr>\n",
       "      <th>3</th>\n",
       "      <td>1949-04-01</td>\n",
       "      <td>129</td>\n",
       "    </tr>\n",
       "    <tr>\n",
       "      <th>4</th>\n",
       "      <td>1949-05-01</td>\n",
       "      <td>121</td>\n",
       "    </tr>\n",
       "  </tbody>\n",
       "</table>\n",
       "</div>"
      ],
      "text/plain": [
       "         time  value\n",
       "0  1949-01-01    112\n",
       "1  1949-02-01    118\n",
       "2  1949-03-01    132\n",
       "3  1949-04-01    129\n",
       "4  1949-05-01    121"
      ]
     },
     "execution_count": 69,
     "metadata": {},
     "output_type": "execute_result"
    }
   ],
   "source": [
    "try:\n",
    "    air_passengers_df = pd.read_csv(\"../kats/data/air_passengers.csv\")\n",
    "except FileNotFoundError: \n",
    "    air_passengers_df = pd.read_csv(\"air_passengers.csv\")\n",
    "# rename columns\n",
    "temp1 = list(air_passengers_df.columns)\n",
    "air_passengers_df.columns = [\"time\", \"value\"]\n",
    "temp2 = list(air_passengers_df.columns)\n",
    "print(f\"renaming columns {temp1} to {temp2}\")\n",
    "print(air_passengers_df.shape)\n",
    "\n",
    "#create Kats time Series object\n",
    "air_passengers_ts = TimeSeriesData(air_passengers_df)\n",
    "\n",
    "#quick data check\n",
    "df = air_passengers_df\n",
    "min_time = min(df.time)\n",
    "max_time = max(df.time)\n",
    "print(min_time)\n",
    "print(max_time)\n",
    "df.head()"
   ]
  },
  {
   "cell_type": "markdown",
   "metadata": {},
   "source": [
    "## 1.1 SARIMA"
   ]
  },
  {
   "cell_type": "markdown",
   "metadata": {},
   "source": [
    "Fit SARIMA model by maximum likelihood via Kalman filter."
   ]
  },
  {
   "cell_type": "code",
   "execution_count": 86,
   "metadata": {},
   "outputs": [],
   "source": [
    "class KatsSarimaModel(TimeSeriesModel):\n",
    "    def __init__(self,\n",
    "                 data: pd.DataFrame,\n",
    "                 params: Optional[dict]\n",
    "                ):         \n",
    "        \n",
    "        #create Kats time Series object\n",
    "        self.data_ts = TimeSeriesData(air_passengers_df)\n",
    "        \n",
    "        #create Kats params object\n",
    "        \n",
    "        #params_list = [k + \"=\" + str(v) for k,v in params.items()]\n",
    "        #print(f\"params_list = {params_list}\")\n",
    "        self.params_sarima = SARIMAParams(**params)\n",
    "        \n",
    "        #TODO. Decide if we really need to defind type hints in base model?\n",
    "        super().__init__(data, params)\n",
    "        \n",
    "    def fit(self):\n",
    "        print(self.params_sarima)\n",
    "        # define model\n",
    "        self.m_sarima = SARIMAModel(data=self.data_ts, params=self.params_sarima)\n",
    "        # fit SARIMA model\n",
    "        self.m_sarima.fit()     \n",
    "        \n",
    "    def predict(self, steps):\n",
    "        self.pred_sarima = self.m_sarima.predict(\n",
    "            steps=steps, \n",
    "            freq=\"MS\"\n",
    "        )\n",
    "        return self.pred_sarima\n",
    "    \n",
    "    def plot(self):\n",
    "        # make plot to visualize\n",
    "        self.m_sarima.plot()\n",
    "    \n",
    "    def data_prep(self):\n",
    "        pass"
   ]
  },
  {
   "cell_type": "code",
   "execution_count": 91,
   "metadata": {},
   "outputs": [
    {
     "name": "stdout",
     "output_type": "stream",
     "text": [
      "<kats.models.sarima.SARIMAParams object at 0x7fcac2349b30>\n"
     ]
    },
    {
     "data": {
      "image/png": "[encoded data removed]",
      "text/plain": [
       "<Figure size 720x432 with 1 Axes>"
      ]
     },
     "metadata": {},
     "output_type": "display_data"
    }
   ],
   "source": [
    "params = {'p': 2, \n",
    "          'd': 1, \n",
    "          'q': 1, \n",
    "          'trend' : 'ct', \n",
    "          'seasonal_order':(1,0,1,12)\n",
    "         }\n",
    "\n",
    "m_sarima = KatsSarimaModel(air_passengers_df, params)\n",
    "m_sarima.fit()\n",
    "pred_sarima = m_sarima.predict(30)\n",
    "m_sarima.plot()"
   ]
  },
  {
   "cell_type": "code",
   "execution_count": 92,
   "metadata": {},
   "outputs": [
    {
     "data": {
      "text/html": [
       "<div>\n",
       "<style scoped>\n",
       "    .dataframe tbody tr th:only-of-type {\n",
       "        vertical-align: middle;\n",
       "    }\n",
       "\n",
       "    .dataframe tbody tr th {\n",
       "        vertical-align: top;\n",
       "    }\n",
       "\n",
       "    .dataframe thead th {\n",
       "        text-align: right;\n",
       "    }\n",
       "</style>\n",
       "<table border=\"1\" class=\"dataframe\">\n",
       "  <thead>\n",
       "    <tr style=\"text-align: right;\">\n",
       "      <th></th>\n",
       "      <th>time</th>\n",
       "      <th>fcst</th>\n",
       "      <th>fcst_lower</th>\n",
       "      <th>fcst_upper</th>\n",
       "    </tr>\n",
       "  </thead>\n",
       "  <tbody>\n",
       "    <tr>\n",
       "      <th>144</th>\n",
       "      <td>1961-01-01</td>\n",
       "      <td>449.517740</td>\n",
       "      <td>427.478097</td>\n",
       "      <td>471.557382</td>\n",
       "    </tr>\n",
       "    <tr>\n",
       "      <th>145</th>\n",
       "      <td>1961-02-01</td>\n",
       "      <td>418.756222</td>\n",
       "      <td>390.889634</td>\n",
       "      <td>446.622811</td>\n",
       "    </tr>\n",
       "    <tr>\n",
       "      <th>146</th>\n",
       "      <td>1961-03-01</td>\n",
       "      <td>455.877392</td>\n",
       "      <td>423.419947</td>\n",
       "      <td>488.334837</td>\n",
       "    </tr>\n",
       "    <tr>\n",
       "      <th>147</th>\n",
       "      <td>1961-04-01</td>\n",
       "      <td>485.351055</td>\n",
       "      <td>447.940548</td>\n",
       "      <td>522.761561</td>\n",
       "    </tr>\n",
       "    <tr>\n",
       "      <th>148</th>\n",
       "      <td>1961-05-01</td>\n",
       "      <td>502.589071</td>\n",
       "      <td>461.764247</td>\n",
       "      <td>543.413894</td>\n",
       "    </tr>\n",
       "  </tbody>\n",
       "</table>\n",
       "</div>"
      ],
      "text/plain": [
       "          time        fcst  fcst_lower  fcst_upper\n",
       "144 1961-01-01  449.517740  427.478097  471.557382\n",
       "145 1961-02-01  418.756222  390.889634  446.622811\n",
       "146 1961-03-01  455.877392  423.419947  488.334837\n",
       "147 1961-04-01  485.351055  447.940548  522.761561\n",
       "148 1961-05-01  502.589071  461.764247  543.413894"
      ]
     },
     "execution_count": 92,
     "metadata": {},
     "output_type": "execute_result"
    }
   ],
   "source": [
    "pred_sarima.head()"
   ]
  },
  {
   "cell_type": "code",
   "execution_count": null,
   "metadata": {},
   "outputs": [],
   "source": []
  }
 ],
 "metadata": {
  "kernelspec": {
   "display_name": "Python 3 (ipykernel)",
   "language": "python",
   "name": "python3"
  },
  "language_info": {
   "codemirror_mode": {
    "name": "ipython",
    "version": 3
   },
   "file_extension": ".py",
   "mimetype": "text/x-python",
   "name": "python",
   "nbconvert_exporter": "python",
   "pygments_lexer": "ipython3",
   "version": "3.11.5"
  },
  "metadata": {
   "interpreter": {
    "hash": "5b6e8fba36db23bc4d54e0302cd75fdd75c29d9edcbab68d6cfc74e7e4b30305"
   }
  }
 },
 "nbformat": 4,
 "nbformat_minor": 2
}
